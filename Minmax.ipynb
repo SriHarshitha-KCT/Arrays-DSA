{
  "nbformat": 4,
  "nbformat_minor": 0,
  "metadata": {
    "colab": {
      "provenance": []
    },
    "kernelspec": {
      "name": "python3",
      "display_name": "Python 3"
    },
    "language_info": {
      "name": "python"
    }
  },
  "cells": [
    {
      "cell_type": "code",
      "execution_count": 3,
      "metadata": {
        "colab": {
          "base_uri": "https://localhost:8080/"
        },
        "id": "pbgEWi9j5mkQ",
        "outputId": "ca555327-aa8f-46d4-a7ab-04b9efc06625"
      },
      "outputs": [
        {
          "output_type": "stream",
          "name": "stdout",
          "text": [
            "Max element 99\n",
            "Min element 11\n"
          ]
        }
      ],
      "source": [
        "def minmax(arr,n):\n",
        "  if arr[0]>arr[1]:\n",
        "     min=arr[1]\n",
        "     max=arr[0]\n",
        "  else:\n",
        "     min=arr[0]\n",
        "     max=arr[1]\n",
        "\n",
        "  if n==1:\n",
        "    print(\"Max and min element is\",arr[0])\n",
        "  for i in range(2,n):\n",
        "    if arr[i]>max:\n",
        "      max=arr[i]\n",
        "    if arr[i]<min:\n",
        "      min=arr[i]\n",
        "  print(\"Max element\",max)\n",
        "  print(\"Min element\",min)\n",
        "arr=[34,99,33,56,11]\n",
        "n=len(arr)\n",
        "minmax(arr,n)\n",
        "\n"
      ]
    },
    {
      "cell_type": "code",
      "source": [],
      "metadata": {
        "id": "_SZ36yl7EQN8"
      },
      "execution_count": null,
      "outputs": []
    }
  ]
}